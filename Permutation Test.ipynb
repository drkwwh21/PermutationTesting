{
 "cells": [
  {
   "cell_type": "markdown",
   "id": "f1a83052",
   "metadata": {},
   "source": [
    "# Permutation Test\n",
    "***"
   ]
  },
  {
   "cell_type": "code",
   "execution_count": 1,
   "id": "5a0a45ec",
   "metadata": {},
   "outputs": [],
   "source": [
    "# Importing libraries\n",
    "import matplotlib.pyplot as plt\n",
    "import seaborn as sns\n",
    "sns.set(style=\"darkgrid\")\n",
    "import pandas as pd\n",
    "import numpy as np"
   ]
  },
  {
   "cell_type": "markdown",
   "id": "448f3d6d",
   "metadata": {},
   "source": [
    "***\n",
    "### Part 1 - Using the dataset from the video (mosquitos_data.csv) in the folder, write Python code to:\n",
    "**1.1 Create side-by-side boxplots for the number of mosquitos in each group (beer vs water)**"
   ]
  },
  {
   "cell_type": "code",
   "execution_count": 12,
   "id": "d1c2484a",
   "metadata": {
    "scrolled": true
   },
   "outputs": [
    {
     "data": {
      "image/png": "[encoded data removed]",
      "text/plain": [
       "<Figure size 640x480 with 1 Axes>"
      ]
     },
     "metadata": {},
     "output_type": "display_data"
    }
   ],
   "source": [
    "df = pd.read_csv(\"mosquitos_data.csv\")\n",
    "sns.boxplot(data=df,x=\"Treatment\",y=\"Response\").set(title=\"Comparison between Beer and Water Intake\",\n",
    "                                                   xlabel=\"Liquid Intake\", ylabel=\"Number of Mosquitoes\");"
   ]
  },
  {
   "cell_type": "markdown",
   "id": "d651f0d5",
   "metadata": {},
   "source": [
    "**1.2. What does the graph reveal about the data for both groups?  Is there an association between beer       consumption and attractiveness to mosquitos.**"
   ]
  },
  {
   "cell_type": "markdown",
   "id": "e4460923",
   "metadata": {},
   "source": [
    "The graph shows the comparison of mosquitoes attractiveness between beer drinkers and water drinkers.\n",
    "\n",
    "The total number of mosquitoes recorded for this experiment ranges between 12 and 31. For the beer drinking group, the response is noted between 17 and 31 which is higher than that for water drinkers, which is between 12 and 24. Therefore, based on initial inspection, this suggests that **there is an association between beer consumption and attractiveness to mosquitos** (i.e. mosquitoes are more attracted to beer drinkers).\n",
    "\n",
    "To further support this statement, it can be seen that the median of the beer group is almost **in line** with the maximum value of their counterpart. In addition, its entire interquartile range is **higher** than the median of the water group. This shows that there are more mosquitoes attracted to beer drinkers than water drinkers."
   ]
  },
  {
   "cell_type": "markdown",
   "id": "aaa8c647",
   "metadata": {},
   "source": [
    "**1.3 Calculate basic statistics measures for each group: Mean, median, standard deviation and explain the numbers.**"
   ]
  },
  {
   "cell_type": "code",
   "execution_count": 3,
   "id": "3a240235",
   "metadata": {},
   "outputs": [
    {
     "data": {
      "text/html": [
       "<div>\n",
       "<style scoped>\n",
       "    .dataframe tbody tr th:only-of-type {\n",
       "        vertical-align: middle;\n",
       "    }\n",
       "\n",
       "    .dataframe tbody tr th {\n",
       "        vertical-align: top;\n",
       "    }\n",
       "\n",
       "    .dataframe thead tr th {\n",
       "        text-align: left;\n",
       "    }\n",
       "\n",
       "    .dataframe thead tr:last-of-type th {\n",
       "        text-align: right;\n",
       "    }\n",
       "</style>\n",
       "<table border=\"1\" class=\"dataframe\">\n",
       "  <thead>\n",
       "    <tr>\n",
       "      <th></th>\n",
       "      <th colspan=\"8\" halign=\"left\">Number of Mosquitoes</th>\n",
       "    </tr>\n",
       "    <tr>\n",
       "      <th></th>\n",
       "      <th>count</th>\n",
       "      <th>mean</th>\n",
       "      <th>std</th>\n",
       "      <th>min</th>\n",
       "      <th>25%</th>\n",
       "      <th>50%</th>\n",
       "      <th>75%</th>\n",
       "      <th>max</th>\n",
       "    </tr>\n",
       "    <tr>\n",
       "      <th>Treatment</th>\n",
       "      <th></th>\n",
       "      <th></th>\n",
       "      <th></th>\n",
       "      <th></th>\n",
       "      <th></th>\n",
       "      <th></th>\n",
       "      <th></th>\n",
       "      <th></th>\n",
       "    </tr>\n",
       "  </thead>\n",
       "  <tbody>\n",
       "    <tr>\n",
       "      <th>Beer</th>\n",
       "      <td>25.0</td>\n",
       "      <td>23.600000</td>\n",
       "      <td>4.133199</td>\n",
       "      <td>17.0</td>\n",
       "      <td>20.0</td>\n",
       "      <td>24.0</td>\n",
       "      <td>27.0</td>\n",
       "      <td>31.0</td>\n",
       "    </tr>\n",
       "    <tr>\n",
       "      <th>Water</th>\n",
       "      <td>18.0</td>\n",
       "      <td>19.222222</td>\n",
       "      <td>3.671120</td>\n",
       "      <td>12.0</td>\n",
       "      <td>16.5</td>\n",
       "      <td>20.0</td>\n",
       "      <td>22.0</td>\n",
       "      <td>24.0</td>\n",
       "    </tr>\n",
       "  </tbody>\n",
       "</table>\n",
       "</div>"
      ],
      "text/plain": [
       "          Number of Mosquitoes                                               \\\n",
       "                         count       mean       std   min   25%   50%   75%   \n",
       "Treatment                                                                     \n",
       "Beer                      25.0  23.600000  4.133199  17.0  20.0  24.0  27.0   \n",
       "Water                     18.0  19.222222  3.671120  12.0  16.5  20.0  22.0   \n",
       "\n",
       "                 \n",
       "            max  \n",
       "Treatment        \n",
       "Beer       31.0  \n",
       "Water      24.0  "
      ]
     },
     "execution_count": 3,
     "metadata": {},
     "output_type": "execute_result"
    }
   ],
   "source": [
    "df.rename(columns = {'Response':'Number of Mosquitoes'}).groupby(\"Treatment\").describe()"
   ]
  },
  {
   "cell_type": "markdown",
   "id": "94a9b1f7",
   "metadata": {},
   "source": [
    "Mean corresponds to the average of a data set. Therefore, based on the experiment, the average number of mosquitos attracted to beer drinkers is 23.6 and it is higher than that for the water drinkers, which is 19.2. This information provides an early/preliminary suggestion that mosquitoes are more attracted to beer drinkers than water drinkers.\n",
    "\n",
    "Median corresponds to the middle value of the data set in ascending order. For beer drinkers, it is 24.0 whereas for water drinkers it is 20.0. Since the mean and the median for both groups are almost the same (23.6 vs 24.0 and 19.2 vs 20.0), their dataset is more or less evenly distributed from the lowest to highest values.\n",
    "\n",
    "Standard deviation corresponds to the degree of dispersion of a data set relative to its mean. For the beer and water drinking groups, it is 4.13 and 3.67 respectively. Since the standard deviation of the beer drinker is higher, this indicates that their mosquitoes attractiveness are more spread out than water drinkers. The difference between the means of two treatments is around 4 mosquitos, which corresponds to the standard deviation of 4 mosquitos, for both treatment variables."
   ]
  },
  {
   "cell_type": "markdown",
   "id": "12467644",
   "metadata": {},
   "source": [
    "***\n",
    "### Part 2 - Write code to implement the data simulation demonstrated in the above mentioned video.  Calculate the probability of obtaining the experiment outcome assuming no association between beer consumption."
   ]
  },
  {
   "cell_type": "code",
   "execution_count": null,
   "id": "802b5706",
   "metadata": {},
   "outputs": [],
   "source": [
    "# Split treatment groups\n",
    "beer = df[df[\"Treatment\"]==\"Beer\"]\n",
    "water = df[df[\"Treatment\"]==\"Water\"]\n",
    "\n",
    "# Extract 'Response' column from the dataset as an array\n",
    "water_array = np.array(water[\"Response\"])\n",
    "beer_array = np.array(beer[\"Response\"])\n",
    "\n",
    "# Count treatment groups\n",
    "water_count = max(water_array.shape)\n",
    "beer_count = max(beer_array.shape)\n",
    "\n",
    "# Obtain the original mean difference from the experiment\n",
    "original_mean = float(beer.mean() - water.mean())\n",
    "\n",
    "# Combine the two treatment groups together\n",
    "mosquito = np.append(water_array,beer_array)\n",
    "\n",
    "# Initialize\n",
    "k = 0 # count if simulated differences >= 4.4\n",
    "results = [] # store simulated difference\n",
    "n = 10000 # number of simulations\n",
    "\n",
    "for _ in range(n):\n",
    "    # shuffle the array items\n",
    "    np.random.shuffle(mosquito)\n",
    "    \n",
    "    # split into two subgroups and compute the difference of means\n",
    "    temp_mean = np.mean(mosquito[:beer_count]) - np.mean(mosquito[beer_count:])\n",
    "    \n",
    "    # append the calculated mean to results list\n",
    "    results.append(temp_mean)\n",
    "    \n",
    "    # count if mean >= 4.4\n",
    "    if temp_mean >= 4.4:\n",
    "        k+=1"
   ]
  },
  {
   "cell_type": "code",
   "execution_count": 4,
   "id": "d94894ef",
   "metadata": {},
   "outputs": [],
   "source": [
    "# Split treatment groups\n",
    "beer = df[df[\"Treatment\"]==\"Beer\"]\n",
    "water = df[df[\"Treatment\"]==\"Water\"]\n",
    "\n",
    "# Extract 'Response' column from the dataset as an array\n",
    "water_array = np.array(water[\"Response\"])\n",
    "beer_array = np.array(beer[\"Response\"])\n",
    "\n",
    "# Count treatment groups\n",
    "water_count = max(water_array.shape)\n",
    "beer_count = max(beer_array.shape)"
   ]
  },
  {
   "cell_type": "code",
   "execution_count": 5,
   "id": "8df747a8",
   "metadata": {},
   "outputs": [],
   "source": [
    "# Obtain the original mean difference from the experiment\n",
    "original_mean = float(beer.mean() - water.mean())\n",
    "\n",
    "# Combine the two treatment groups together\n",
    "mosquito = np.append(water_array,beer_array)\n",
    "\n",
    "# Initialize\n",
    "k = 0 # count if simulated differences >= 4.4\n",
    "results = [] # store simulated difference\n",
    "n = 10000 # number of simulations\n",
    "\n",
    "for _ in range(n):\n",
    "    # shuffle the array items\n",
    "    np.random.shuffle(mosquito)\n",
    "    \n",
    "    # split into two subgroups and compute the difference of means\n",
    "    temp_mean = np.mean(mosquito[:beer_count]) - np.mean(mosquito[beer_count:])\n",
    "    \n",
    "    # append the calculated mean to results list\n",
    "    results.append(temp_mean)\n",
    "    \n",
    "    # count if mean >= 4.4\n",
    "    if temp_mean >= 4.4:\n",
    "        k+=1"
   ]
  },
  {
   "cell_type": "code",
   "execution_count": 6,
   "id": "160182bc",
   "metadata": {
    "scrolled": false
   },
   "outputs": [
    {
     "data": {
      "image/png": "[encoded data removed]",
      "text/plain": [
       "<Figure size 576x360 with 1 Axes>"
      ]
     },
     "metadata": {},
     "output_type": "display_data"
    }
   ],
   "source": [
    "plt.figure(figsize=(8,5))\n",
    "plt.hist(results)\n",
    "plt.axvline(original_mean, color='r',linestyle='dashed',linewidth=2)\n",
    "_, max_ylim = plt.ylim()\n",
    "plt.xlim([-5,6.5])\n",
    "plt.text(original_mean*1.1, max_ylim*0.9, 'Original\\nMean: %.1f'%original_mean)\n",
    "plt.title('Sampling difference of means')\n",
    "plt.xlabel('Mean differences')\n",
    "plt.ylabel('Number of Simulations');"
   ]
  },
  {
   "cell_type": "code",
   "execution_count": 7,
   "id": "d71f8d2e",
   "metadata": {
    "scrolled": true
   },
   "outputs": [
    {
     "name": "stdout",
     "output_type": "stream",
     "text": [
      "Total number of simulations: 10000\n",
      "Total number of times simulated mean is higher than 4.4: 2 \n",
      "The probability of obtaining the experiment outcome: 0.02%\n"
     ]
    }
   ],
   "source": [
    "print(\"Total number of simulations: %i\" % n)\n",
    "print(\"Total number of times simulated mean is higher than 4.4: %i \" % k)\n",
    "print(\"The probability of obtaining the experiment outcome: %.2f%%\" % (k/n*100))"
   ]
  },
  {
   "cell_type": "markdown",
   "id": "24ba8d50",
   "metadata": {},
   "source": [
    "**Since the calculated probability is too small, it can be concluded that it is very unlikely to get such an observation by chance and the skeptical ‘no association’ hypothesis can be rejected.**\n",
    "<br><br>End\n",
    "***"
   ]
  },
  {
   "cell_type": "markdown",
   "id": "1404e5cb",
   "metadata": {},
   "source": []
  }
 ],
 "metadata": {
  "kernelspec": {
   "display_name": "Python 3",
   "language": "python",
   "name": "python3"
  },
  "language_info": {
   "codemirror_mode": {
    "name": "ipython",
    "version": 3
   },
   "file_extension": ".py",
   "mimetype": "text/x-python",
   "name": "python",
   "nbconvert_exporter": "python",
   "pygments_lexer": "ipython3",
   "version": "3.9.6"
  }
 },
 "nbformat": 4,
 "nbformat_minor": 5
}
